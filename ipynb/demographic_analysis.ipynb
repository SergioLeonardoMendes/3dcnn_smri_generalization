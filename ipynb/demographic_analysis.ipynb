{
 "cells": [
  {
   "cell_type": "code",
   "execution_count": 1,
   "id": "published-secretary",
   "metadata": {
    "execution": {
     "iopub.execute_input": "2021-12-16T14:55:56.365268Z",
     "iopub.status.busy": "2021-12-16T14:55:56.364737Z",
     "iopub.status.idle": "2021-12-16T14:55:57.790003Z",
     "shell.execute_reply": "2021-12-16T14:55:57.789489Z",
     "shell.execute_reply.started": "2021-12-16T14:55:56.365121Z"
    }
   },
   "outputs": [],
   "source": [
    "# imports\n",
    "import numpy as np\n",
    "import matplotlib.pyplot as plt\n",
    "import seaborn as sn\n",
    "import pandas as pd"
   ]
  },
  {
   "cell_type": "code",
   "execution_count": 2,
   "id": "bronze-estonia",
   "metadata": {
    "execution": {
     "iopub.execute_input": "2021-12-16T14:55:58.675037Z",
     "iopub.status.busy": "2021-12-16T14:55:58.674651Z",
     "iopub.status.idle": "2021-12-16T14:55:58.680472Z",
     "shell.execute_reply": "2021-12-16T14:55:58.679505Z",
     "shell.execute_reply.started": "2021-12-16T14:55:58.674996Z"
    }
   },
   "outputs": [],
   "source": [
    "# Pandas display options\n",
    "pd.set_option('display.max_rows', 1200)\n",
    "pd.set_option('display.max_columns', 500)\n",
    "pd.set_option('display.max_colwidth', 100)"
   ]
  },
  {
   "cell_type": "code",
   "execution_count": 3,
   "id": "banned-shaft",
   "metadata": {
    "execution": {
     "iopub.execute_input": "2021-12-16T14:56:02.068801Z",
     "iopub.status.busy": "2021-12-16T14:56:02.068369Z",
     "iopub.status.idle": "2021-12-16T14:56:02.478452Z",
     "shell.execute_reply": "2021-12-16T14:56:02.477938Z",
     "shell.execute_reply.started": "2021-12-16T14:56:02.068752Z"
    }
   },
   "outputs": [],
   "source": [
    "# read each dataset in a dataframe\n",
    "df_abide2 = pd.read_csv('/project/data/ABIDE2/phenotypics.csv')\n",
    "df_adhd200 = pd.read_csv('/project/data/ADHD200/phenotypics.csv')\n",
    "df_bhrc = pd.read_csv('/project/data/INPD/phenotypics.csv')\n",
    "df_abcd = pd.read_csv('/project/data/ABCD/phenotypics.csv')\n",
    "\n",
    "# ABIDE-II adjusts\n",
    "df_abide2['dataset'] = 'ABIDE-II'\n",
    "df_abide2['apd'] = df_abide2['DX_GROUP'].replace(2,0) # any psychiatric disorder\n",
    "df_abide2 = df_abide2.rename(columns={\"SUB_ID\": \"subjectid\", \"SEX_BIN\": \"sex_bin\", \"AGE_AT_SCAN\": \"age_y\", \n",
    "                                      \"SITE_ID_BIN\": \"site\"})\n",
    "# ADHD-200 adjusts\n",
    "df_adhd200['dataset'] = 'ADHD-200'\n",
    "df_adhd200['apd'] = df_adhd200['DX'].replace([2,3],1) # any psychiatric disorder\n",
    "df_adhd200 = df_adhd200.rename(columns={\"SCANDIR_ID\": \"subjectid\", \"GENDER\": \"sex_bin\", \"AGE\": \"age_y\",\n",
    "                                       \"SITE\": \"site\"})\n",
    "# BHRC adjusts\n",
    "df_bhrc['dataset'] = 'BHRC'\n",
    "df_bhrc['gender'] = df_bhrc['gender'].replace(2,0)\n",
    "df_bhrc['apd'] = df_bhrc['dcany'].replace(2,1) # any psychiatric disorder\n",
    "df_bhrc = df_bhrc.rename(columns={\"gender\": \"sex_bin\", \"age\": \"age_y\",\n",
    "                                  \"state\": \"site\"})\n",
    "# ABCD adjusts\n",
    "df_abcd['dataset'] = 'ABCD'\n",
    "df_abcd = df_abcd.rename(columns={\"subjectkey\": \"subjectid\", \"age\": \"age_y\", \"diag_any\": \"apd\",\n",
    "                                 \"scanner_serialnumber_bin\": \"site\"})\n",
    "\n",
    "# append data to the same dataframe\n",
    "df = pd.DataFrame()\n",
    "for dataset in ['df_abide2','df_adhd200','df_bhrc','df_abcd']:\n",
    "    df = df.append(eval(dataset+\"[['dataset','sex_bin','age_y','apd']]\"), ignore_index=True)\n",
    "    \n",
    "# map gender to a string feature\n",
    "df['gender'] = np.select([df['sex_bin']==0, df['sex_bin']==1], \n",
    "                         ['female', 'male'], \n",
    "                         'other')"
   ]
  },
  {
   "cell_type": "code",
   "execution_count": 4,
   "id": "allied-isolation",
   "metadata": {
    "execution": {
     "iopub.execute_input": "2021-12-16T14:56:04.924193Z",
     "iopub.status.busy": "2021-12-16T14:56:04.923757Z",
     "iopub.status.idle": "2021-12-16T14:56:04.978977Z",
     "shell.execute_reply": "2021-12-16T14:56:04.978438Z",
     "shell.execute_reply.started": "2021-12-16T14:56:04.924144Z"
    }
   },
   "outputs": [
    {
     "data": {
      "text/html": [
       "<div>\n",
       "<style scoped>\n",
       "    .dataframe tbody tr th:only-of-type {\n",
       "        vertical-align: middle;\n",
       "    }\n",
       "\n",
       "    .dataframe tbody tr th {\n",
       "        vertical-align: top;\n",
       "    }\n",
       "\n",
       "    .dataframe thead th {\n",
       "        text-align: right;\n",
       "    }\n",
       "</style>\n",
       "<table border=\"1\" class=\"dataframe\">\n",
       "  <thead>\n",
       "    <tr style=\"text-align: right;\">\n",
       "      <th></th>\n",
       "      <th>dataset</th>\n",
       "      <th>N</th>\n",
       "      <th>male_perc</th>\n",
       "      <th>female_perc</th>\n",
       "      <th>age_mean</th>\n",
       "      <th>age_sd</th>\n",
       "      <th>age_range</th>\n",
       "      <th>apd_perc</th>\n",
       "    </tr>\n",
       "  </thead>\n",
       "  <tbody>\n",
       "    <tr>\n",
       "      <th></th>\n",
       "      <td>ABIDE-II</td>\n",
       "      <td>580</td>\n",
       "      <td>0.738</td>\n",
       "      <td>0.262</td>\n",
       "      <td>12.1</td>\n",
       "      <td>3.2</td>\n",
       "      <td>6.1-20.0</td>\n",
       "      <td>0.433</td>\n",
       "    </tr>\n",
       "    <tr>\n",
       "      <th></th>\n",
       "      <td>ADHD-200</td>\n",
       "      <td>922</td>\n",
       "      <td>0.631</td>\n",
       "      <td>0.369</td>\n",
       "      <td>11.7</td>\n",
       "      <td>3.0</td>\n",
       "      <td>7.1-19.9</td>\n",
       "      <td>0.387</td>\n",
       "    </tr>\n",
       "    <tr>\n",
       "      <th></th>\n",
       "      <td>BHRC</td>\n",
       "      <td>737</td>\n",
       "      <td>0.571</td>\n",
       "      <td>0.429</td>\n",
       "      <td>9.9</td>\n",
       "      <td>1.9</td>\n",
       "      <td>5.8-14.3</td>\n",
       "      <td>0.305</td>\n",
       "    </tr>\n",
       "    <tr>\n",
       "      <th></th>\n",
       "      <td>ABCD</td>\n",
       "      <td>11031</td>\n",
       "      <td>0.520</td>\n",
       "      <td>0.480</td>\n",
       "      <td>9.9</td>\n",
       "      <td>0.6</td>\n",
       "      <td>8.9-11.1</td>\n",
       "      <td>0.150</td>\n",
       "    </tr>\n",
       "  </tbody>\n",
       "</table>\n",
       "</div>"
      ],
      "text/plain": [
       "   dataset      N  male_perc  female_perc  age_mean  age_sd age_range  \\\n",
       "  ABIDE-II    580      0.738        0.262      12.1     3.2  6.1-20.0   \n",
       "  ADHD-200    922      0.631        0.369      11.7     3.0  7.1-19.9   \n",
       "      BHRC    737      0.571        0.429       9.9     1.9  5.8-14.3   \n",
       "      ABCD  11031      0.520        0.480       9.9     0.6  8.9-11.1   \n",
       "\n",
       "  apd_perc  \n",
       "     0.433  \n",
       "     0.387  \n",
       "     0.305  \n",
       "     0.150  "
      ]
     },
     "execution_count": 4,
     "metadata": {},
     "output_type": "execute_result"
    }
   ],
   "source": [
    "# get demographic info\n",
    "list_demogs = []\n",
    "for dataset in ['ABIDE-II','ADHD-200','BHRC','ABCD']:\n",
    "    # prepare variables\n",
    "    condition = df['dataset'] == dataset\n",
    "    N = df[condition]['gender'].count()\n",
    "    male_perc = np.round((df[condition & df['sex_bin']==1]['gender'].count() / N), 3)\n",
    "    female_perc = np.round((1 - male_perc), 3)\n",
    "    age_mean = np.round(df[condition]['age_y'].mean(), 1)\n",
    "    age_sd = np.round(df[condition]['age_y'].std(), 1)\n",
    "    age_range = str(np.round(df[condition]['age_y'].min(), 1)) \\\n",
    "                + '-' \\\n",
    "                + str(np.round(df[condition]['age_y'].max(),1))\n",
    "    apd_perc = np.round((df[condition & df['apd']==1]['apd'].count() / N),3)\n",
    "    # prepare dictionary\n",
    "    demogs = {}\n",
    "    demogs['dataset'] = dataset\n",
    "    demogs['N'] = N\n",
    "    demogs['male_perc'] = male_perc\n",
    "    demogs['female_perc'] = female_perc\n",
    "    demogs['age_mean'] = age_mean\n",
    "    demogs['age_sd'] = age_sd\n",
    "    demogs['age_range'] = age_range\n",
    "    demogs['apd_perc'] = apd_perc\n",
    "    # append dictionary to list\n",
    "    list_demogs.append(demogs)\n",
    "\n",
    "# create and show dataframe    \n",
    "df_demog = pd.DataFrame(list_demogs)\n",
    "blank_idx = [''] * len(df_demog)  # clear dataframes' indices\n",
    "df_demog.index = blank_idx\n",
    "df_demog"
   ]
  },
  {
   "cell_type": "code",
   "execution_count": 8,
   "id": "sunrise-madness",
   "metadata": {
    "execution": {
     "iopub.execute_input": "2021-12-16T15:14:54.481704Z",
     "iopub.status.busy": "2021-12-16T15:14:54.481292Z",
     "iopub.status.idle": "2021-12-16T15:14:54.822496Z",
     "shell.execute_reply": "2021-12-16T15:14:54.822089Z",
     "shell.execute_reply.started": "2021-12-16T15:14:54.481625Z"
    }
   },
   "outputs": [
    {
     "data": {
      "image/png": "[encoded data removed]",
      "text/plain": [
       "<Figure size 432x288 with 1 Axes>"
      ]
     },
     "metadata": {},
     "output_type": "display_data"
    }
   ],
   "source": [
    "# plot seaborn violin plot\n",
    "sn.set_style('dark', {'axes.edgecolor': 'white'}) #{\"grid.color\": \".6\", \"grid.linestyle\": \":\"})\n",
    "ax = sn.violinplot(x='dataset', y='age_y', hue='gender',\n",
    "                   data=df, palette='Blues', split=True,\n",
    "                   scale=\"count\", inner=\"quartile\", cut=0, linewidth=1)\n",
    "ax.set_ylabel(\"Age, y\")\n",
    "ax.set_xlabel('')\n",
    "ax.legend().set_title('')\n",
    "# sn.set_theme(style='whitegrid')\n",
    "# sns.axes_style()\n",
    "\n",
    "plt.savefig('/project/sources/violin_plot.png', bbox_inches='tight')\n"
   ]
  },
  {
   "cell_type": "code",
   "execution_count": 9,
   "id": "stopped-saturn",
   "metadata": {
    "execution": {
     "iopub.execute_input": "2021-10-05T20:12:31.284001Z",
     "iopub.status.busy": "2021-10-05T20:12:31.283753Z",
     "iopub.status.idle": "2021-10-05T20:12:32.385823Z",
     "shell.execute_reply": "2021-10-05T20:12:32.385364Z",
     "shell.execute_reply.started": "2021-10-05T20:12:31.283974Z"
    }
   },
   "outputs": [
    {
     "name": "stdout",
     "output_type": "stream",
     "text": [
      "/project/data/results/predictions_csv/pred_confounds/ADHD200_AGE_k01_predconfounds.csv\n",
      "/project/data/results/predictions_csv/pred_confounds/ADHD200_AGE_k02_predconfounds.csv\n",
      "/project/data/results/predictions_csv/pred_confounds/ADHD200_AGE_k03_predconfounds.csv\n",
      "/project/data/results/predictions_csv/pred_confounds/ADHD200_AGE_k04_predconfounds.csv\n",
      "/project/data/results/predictions_csv/pred_confounds/ADHD200_AGE_k05_predconfounds.csv\n",
      "/project/data/results/predictions_csv/pred_confounds/ADHD200_ADHD_k01_predconfounds.csv\n",
      "/project/data/results/predictions_csv/pred_confounds/ADHD200_ADHD_k02_predconfounds.csv\n",
      "/project/data/results/predictions_csv/pred_confounds/ADHD200_ADHD_k03_predconfounds.csv\n",
      "/project/data/results/predictions_csv/pred_confounds/ADHD200_ADHD_k04_predconfounds.csv\n",
      "/project/data/results/predictions_csv/pred_confounds/ADHD200_ADHD_k05_predconfounds.csv\n",
      "/project/data/results/predictions_csv/pred_confounds/ABIDE2_AGE_k01_predconfounds.csv\n",
      "/project/data/results/predictions_csv/pred_confounds/ABIDE2_AGE_k02_predconfounds.csv\n",
      "/project/data/results/predictions_csv/pred_confounds/ABIDE2_AGE_k03_predconfounds.csv\n",
      "/project/data/results/predictions_csv/pred_confounds/ABIDE2_AGE_k04_predconfounds.csv\n",
      "/project/data/results/predictions_csv/pred_confounds/ABIDE2_AGE_k05_predconfounds.csv\n",
      "/project/data/results/predictions_csv/pred_confounds/BHRC_AGE_k01_predconfounds.csv\n",
      "/project/data/results/predictions_csv/pred_confounds/BHRC_AGE_k02_predconfounds.csv\n",
      "/project/data/results/predictions_csv/pred_confounds/BHRC_AGE_k03_predconfounds.csv\n",
      "/project/data/results/predictions_csv/pred_confounds/BHRC_AGE_k04_predconfounds.csv\n",
      "/project/data/results/predictions_csv/pred_confounds/BHRC_AGE_k05_predconfounds.csv\n",
      "/project/data/results/predictions_csv/pred_confounds/ABCD_AGE_k01_predconfounds.csv\n",
      "/project/data/results/predictions_csv/pred_confounds/ABCD_AGE_k02_predconfounds.csv\n",
      "/project/data/results/predictions_csv/pred_confounds/ABCD_AGE_k03_predconfounds.csv\n",
      "/project/data/results/predictions_csv/pred_confounds/ABCD_AGE_k04_predconfounds.csv\n",
      "/project/data/results/predictions_csv/pred_confounds/ABCD_AGE_k05_predconfounds.csv\n",
      "/project/data/results/predictions_csv/pred_confounds/ABCD_AGE_k06_predconfounds.csv\n",
      "/project/data/results/predictions_csv/pred_confounds/ABCD_AGE_k07_predconfounds.csv\n",
      "/project/data/results/predictions_csv/pred_confounds/ABCD_AGE_k08_predconfounds.csv\n",
      "/project/data/results/predictions_csv/pred_confounds/ABCD_AGE_k09_predconfounds.csv\n",
      "/project/data/results/predictions_csv/pred_confounds/ABCD_AGE_k10_predconfounds.csv\n"
     ]
    }
   ],
   "source": [
    "# generate csv files to confound analysis\n",
    "for dataset in ['ADHD200','ABIDE2','BHRC','ABCD']:\n",
    "    N = 11 if dataset == 'ABCD' else 6\n",
    "    task_list = ['AGE','ADHD'] if dataset == 'ADHD200' else ['AGE']\n",
    "    for task in task_list:\n",
    "        for i in np.arange(1,N,1):\n",
    "            # csv filenames\n",
    "            csv_predictions = '/project/data/results/predictions_csv/' + dataset \\\n",
    "                                + '_'+ task + '_k' + str(i).zfill(2) + '_predictions.csv'\n",
    "            csv_voxsum = '/project/data/results/predictions_csv/' + dataset \\\n",
    "                            + '_voxels_sum.csv'\n",
    "            csv_predconfounds = '/project/data/results/predictions_csv/pred_confounds/' + dataset \\\n",
    "                                    + '_' + task + '_k' + str(i).zfill(2) + '_predconfounds.csv'\n",
    "            # selected columns\n",
    "            if task == 'AGE':\n",
    "                columns = ['predicted','target','sex_bin','site','voxels_sum']\n",
    "                new_columns = ['prediction','target','cnf_cat_sex','cnf_cat_site','cnf_cont_voxsum']\n",
    "            else:\n",
    "                columns = ['predicted','target','age_y','sex_bin','site','voxels_sum']\n",
    "                new_columns = ['prediction','target','cnf_cont_age','cnf_cat_sex','cnf_cat_site','cnf_cont_voxsum']               \n",
    "\n",
    "            df_predconf = pd.read_csv(csv_predictions)\n",
    "            df_voxsum = pd.read_csv(csv_voxsum)\n",
    "            \n",
    "            # adjust subjectid dtype for dataframe merge\n",
    "            if dataset == 'ABCD':\n",
    "                df_predconf['subjectid'] = df_predconf['subjectid'].str.replace(\"b'\",\"\").str.replace(\"'\",\"\").astype(str)\n",
    "                df_voxsum['subjectid'] = df_voxsum['subjectid'].str.replace(\"b'\",\"\").str.replace(\"'\",\"\").astype(str)\n",
    "            # merge dataframes and adjust column names\n",
    "            df_predconf = pd.merge(df_predconf, df_voxsum, on='subjectid')\n",
    "            df_predconf = pd.merge(df_predconf, eval('df_'+dataset.lower()), on='subjectid')\n",
    "            df_predconf = df_predconf[columns]\n",
    "            df_predconf.columns = new_columns\n",
    "            # save csvs\n",
    "            df_predconf.to_csv(csv_predconfounds, index=False, na_rep='')\n",
    "            print(csv_predconfounds) "
   ]
  },
  {
   "cell_type": "code",
   "execution_count": null,
   "id": "realistic-corporation",
   "metadata": {},
   "outputs": [],
   "source": []
  }
 ],
 "metadata": {
  "kernelspec": {
   "display_name": "Python 3",
   "language": "python",
   "name": "python3"
  },
  "language_info": {
   "codemirror_mode": {
    "name": "ipython",
    "version": 3
   },
   "file_extension": ".py",
   "mimetype": "text/x-python",
   "name": "python",
   "nbconvert_exporter": "python",
   "pygments_lexer": "ipython3",
   "version": "3.8.5"
  }
 },
 "nbformat": 4,
 "nbformat_minor": 5
}
